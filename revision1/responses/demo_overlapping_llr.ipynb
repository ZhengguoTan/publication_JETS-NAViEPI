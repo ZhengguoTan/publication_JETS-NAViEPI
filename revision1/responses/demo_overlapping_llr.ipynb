{
  "nbformat": 4,
  "nbformat_minor": 0,
  "metadata": {
    "colab": {
      "provenance": []
    },
    "kernelspec": {
      "name": "python3",
      "display_name": "Python 3"
    },
    "language_info": {
      "name": "python"
    }
  },
  "cells": [
    {
      "cell_type": "markdown",
      "source": [
        "### Focus\n",
        "\n",
        "This notebook employs an toy example to explain: \n",
        "\n",
        "* why scaling is necessary when using overlapping locally low rank (LLR) regularization for iterative image reconstruction.\n",
        "\n",
        "### Intuition\n",
        "\n",
        "In principle, **LLR regularization enforces low rankness in multi-contrast image series** [1,2]. Assume that we want to reconstruct one set of images with the shape `[N_x, N_y, N_contrast]` with `N_x` and `N_y` being the width and height of the images, and `N_contrast` the number of contrasts, LLR regularization then involves the following steps:\n",
        "\n",
        "  1. **Extract** 2D local image patches from each 2D image of the 3D multi-contrast image array. The shape of the 2D local image patch `[N_patch_x, N_patch_y]` is much smaller than `[N_x, N_y]`;\n",
        "  2. The extracted single patch has the shape `[N_patch_x, N_patch_y, N_contrast]`, which is then **flattened** to a 2D array with the shape `[N_patch_x * N_patch_y, N_contrast]`;\n",
        "  3. **singular value thresholding (SVT)** [3] is applied onto every flattened 2D pathes;\n",
        "  4. **convert** every thresholded flattened 2D arrays back into their corresponding location in the multi-contrast image arrays.\n",
        "  - In the 4th step, one has to be careful when using **overlapping** image patches! I will explain this with an toy example.\n",
        "\n",
        "### Author\n",
        "\n",
        "  * Zhengguo Tan <zhengguo.tan@gmail.com>\n",
        "\n",
        "\n",
        "### References\n",
        "\n",
        "[1] Trzasko J, Manduca A. Local versus global low-rank promotion in dynamic MRI series reconstruction. *Proceedings of the 19th Annual Meeting of ISMRM* (2011) page 4371. \n",
        "\n",
        "[2] Zhang T, Pauly JM, Levesque IR. Accelerated parameter mapping with a locally low rank constraint. *Magn Reson Med* (2015). doi: [10.1002/mrm.25161](https://doi.org/10.1002/mrm.25161)\n",
        "\n",
        "[3] Cai JF, Candès EJ, Shen Z. A singular value thresholding algorithm for matrix completion. *SIAM J Optim* (2010). doi: [10.1137/080738970](https://doi.org/10.1137/080738970)"
      ],
      "metadata": {
        "id": "7P7B4PtSZIRt"
      }
    },
    {
      "cell_type": "code",
      "execution_count": null,
      "metadata": {
        "id": "5Y5O-0azY3vN"
      },
      "outputs": [],
      "source": [
        "import numpy as np"
      ]
    },
    {
      "cell_type": "markdown",
      "source": [
        "#### 1. Let's construct a toy example of multi-contrast images\n",
        "\n",
        "    Here, two contrasts are simulated, and each contrast image has the shape `[2, 3]`, i.e., 2 rows and 3 columns.\n"
      ],
      "metadata": {
        "id": "kYRsJKaajule"
      }
    },
    {
      "cell_type": "code",
      "source": [
        "x1 = np.arange(1, 7, 1).reshape(2, 3) * 0.1 + 1\n",
        "x2 = np.arange(1, 7, 1).reshape(2, 3) * 0.1 + 2\n",
        "\n",
        "print('contrast #1: \\n', x1)\n",
        "print('contrast #2: \\n', x2)\n",
        "\n",
        "x = np.stack((x1, x2))\n",
        "\n",
        "print('multi-contrast images: \\n', x)\n"
      ],
      "metadata": {
        "colab": {
          "base_uri": "https://localhost:8080/"
        },
        "id": "CO-RjMlSiP9g",
        "outputId": "2bef9041-e6c7-45a6-c5d1-32494b1b8d16"
      },
      "execution_count": null,
      "outputs": [
        {
          "output_type": "stream",
          "name": "stdout",
          "text": [
            "contrast #1: \n",
            " [[1.1 1.2 1.3]\n",
            " [1.4 1.5 1.6]]\n",
            "contrast #2: \n",
            " [[2.1 2.2 2.3]\n",
            " [2.4 2.5 2.6]]\n",
            "multi-contrast images: \n",
            " [[[1.1 1.2 1.3]\n",
            "  [1.4 1.5 1.6]]\n",
            "\n",
            " [[2.1 2.2 2.3]\n",
            "  [2.4 2.5 2.6]]]\n"
          ]
        }
      ]
    },
    {
      "cell_type": "markdown",
      "source": [
        "#### 2. extract local patches\n",
        "\n",
        "    Here, we use the patch size of `[2, 2]`, and the stride size is `[1, 1]`."
      ],
      "metadata": {
        "id": "U2XWUssCj7Dl"
      }
    },
    {
      "cell_type": "markdown",
      "source": [
        "###### The first extracted patch is then:"
      ],
      "metadata": {
        "id": "KiAB2VQjkuK-"
      }
    },
    {
      "cell_type": "code",
      "source": [
        "print('      contrast #1 \\t\\t\\t   contrast #2')\n",
        "\n",
        "print('\\n(a) the 1st local patch masked by *')\n",
        "\n",
        "print('    * * * * * * * \\t\\t\\t * * * * * * *')\n",
        "print('    * ' + str(x1[0, 0]) + '   ' + str(x1[0, 1]) + ' * ' + str(x1[0, 2]) + '\\t\\t\\t ' +\\\n",
        "      '* ' + str(x2[0, 0]) + '   ' + str(x2[0, 1]) + ' * ' + str(x2[0, 2]))\n",
        "print('    * ' + str(x1[1, 0]) + '   ' + str(x1[1, 1]) + ' * ' + str(x1[1, 2]) + '\\t\\t\\t ' +\\\n",
        "      '* ' + str(x2[1, 0]) + '   ' + str(x2[1, 1]) + ' * ' + str(x2[1, 2]))\n",
        "print('    * * * * * * * \\t\\t\\t * * * * * * *')\n",
        "\n",
        "print('\\n(b) flatten')\n",
        "\n",
        "print('    ' + str(x1[0, 0]) + ', ' + str(x2[0, 0]))\n",
        "print('    ' + str(x1[0, 1]) + ', ' + str(x2[0, 1]))\n",
        "print('    ' + str(x1[1, 0]) + ', ' + str(x2[1, 0]))\n",
        "print('    ' + str(x1[1, 1]) + ', ' + str(x2[1, 1]))\n",
        "\n",
        "\n",
        "\n",
        "print('\\n(c) the 2nd local patch masked by *')\n",
        "\n",
        "print('          * * * * * * * \\t\\t       * * * * * * *')\n",
        "print('      ' + str(x1[0, 0]) + ' * ' + str(x1[0, 1]) + '   ' + str(x1[0, 2]) + ' * ' + '\\t\\t   ' +\\\n",
        "      str(x2[0, 0]) + ' * ' + str(x2[0, 1]) + '   ' + str(x2[0, 2]) + ' * ')\n",
        "print('      ' + str(x1[1, 0]) + ' * ' + str(x1[1, 1]) + '   ' + str(x1[1, 2]) + ' * ' + '\\t\\t   ' +\\\n",
        "      str(x2[1, 0]) + ' * ' + str(x2[1, 1]) + '   ' + str(x2[1, 2]) + ' * ')\n",
        "print('          * * * * * * * \\t\\t       * * * * * * *')\n",
        "\n",
        "print('\\n(d) flatten')\n",
        "\n",
        "print('    ' + str(x1[0, 1]) + ', ' + str(x2[0, 1]))\n",
        "print('    ' + str(x1[0, 2]) + ', ' + str(x2[0, 2]))\n",
        "print('    ' + str(x1[1, 1]) + ', ' + str(x2[1, 1]))\n",
        "print('    ' + str(x1[1, 2]) + ', ' + str(x2[1, 2]))\n"
      ],
      "metadata": {
        "colab": {
          "base_uri": "https://localhost:8080/"
        },
        "id": "DkOT0Q8Gkrjg",
        "outputId": "1607102c-9c26-4e83-c2bf-262eb0088f1e"
      },
      "execution_count": null,
      "outputs": [
        {
          "output_type": "stream",
          "name": "stdout",
          "text": [
            "      contrast #1 \t\t\t   contrast #2\n",
            "\n",
            "(a) the 1st local patch masked by *\n",
            "    * * * * * * * \t\t\t * * * * * * *\n",
            "    * 1.1   1.2 * 1.3\t\t\t * 2.1   2.2 * 2.3\n",
            "    * 1.4   1.5 * 1.6\t\t\t * 2.4   2.5 * 2.6\n",
            "    * * * * * * * \t\t\t * * * * * * *\n",
            "\n",
            "(b) flatten\n",
            "    1.1, 2.1\n",
            "    1.2, 2.2\n",
            "    1.4, 2.4\n",
            "    1.5, 2.5\n",
            "\n",
            "(c) the 2nd local patch masked by *\n",
            "          * * * * * * * \t\t       * * * * * * *\n",
            "      1.1 * 1.2   1.3 * \t\t   2.1 * 2.2   2.3 * \n",
            "      1.4 * 1.5   1.6 * \t\t   2.4 * 2.5   2.6 * \n",
            "          * * * * * * * \t\t       * * * * * * *\n",
            "\n",
            "(d) flatten\n",
            "    1.2, 2.2\n",
            "    1.3, 2.3\n",
            "    1.5, 2.5\n",
            "    1.6, 2.6\n"
          ]
        }
      ]
    },
    {
      "cell_type": "markdown",
      "source": [
        "### 3. convert the local patches back to full-size 3D arrays\n",
        "\n",
        "    Here, we skip the SVT step, and focus on why the conversion step needs scaling when using overlapping local patches.\n",
        "\n",
        "    As you can see in the step above, the second column of each contrast appears in both patches. \n",
        "\n",
        "    As a result, during the conversion process, the overlapped location accumulates the values from every patch.\n",
        "\n",
        "    The converted array then becomes"
      ],
      "metadata": {
        "id": "BoFCJ0eHsyGM"
      }
    },
    {
      "cell_type": "code",
      "source": [
        "print('      contrast #1 \\t\\t\\t   contrast #2')\n",
        "\n",
        "print('\\n(e) the converted array')\n",
        "\n",
        "print('      ' + str(x1[0, 0]) + '   ' + str(x1[0, 1] + x1[0, 1]) + '   ' + str(x1[0, 2]) + '\\t\\t\\t ' +\\\n",
        "      '  ' + str(x2[0, 0]) + '   ' + str(x2[0, 1] + x2[0, 1]) + '   ' + str(x2[0, 2]))\n",
        "print('      ' + str(x1[1, 0]) + '   ' + str(x1[1, 1] + x1[1, 1]) + '   ' + str(x1[1, 2]) + '\\t\\t\\t ' +\\\n",
        "      '  ' + str(x2[1, 0]) + '   ' + str(x2[1, 1] + x2[1, 1]) + '   ' + str(x2[1, 2]))"
      ],
      "metadata": {
        "colab": {
          "base_uri": "https://localhost:8080/"
        },
        "id": "KgJz-S9etbCE",
        "outputId": "5189dcb7-df9c-41b0-d631-8df1c26dc542"
      },
      "execution_count": null,
      "outputs": [
        {
          "output_type": "stream",
          "name": "stdout",
          "text": [
            "      contrast #1 \t\t\t   contrast #2\n",
            "\n",
            "(e) the converted array\n",
            "      1.1   2.4   1.3\t\t\t   2.1   4.4   2.3\n",
            "      1.4   3.0   1.6\t\t\t   2.4   5.0   2.6\n"
          ]
        }
      ]
    },
    {
      "cell_type": "markdown",
      "source": [
        "### 4. Solution to overlapping LLR: \n",
        "\n",
        "(1) define an ones array with the same shape as the 3D multi-contrast array. Here, ones array means every element of the array is one.\n",
        "\n",
        "(2) extract patches from the ones array, and then convert these patches back to arrays.\n",
        "\n",
        "(3) the converted array then reflects how many times the overlapping happens!"
      ],
      "metadata": {
        "id": "R0CnTJqozEHl"
      }
    },
    {
      "cell_type": "code",
      "source": [
        "print('      contrast #1 \\t\\t   contrast #2')\n",
        "\n",
        "print('\\n(e) the converted array')\n",
        "\n",
        "print('      ' + str(1) + '   ' + str(2) + '   ' + str(1) + '\\t\\t\\t ' +\\\n",
        "      '  ' + str(1) + '   ' + str(2) + '   ' + str(1))\n",
        "print('      ' + str(1) + '   ' + str(2) + '   ' + str(1) + '\\t\\t\\t ' +\\\n",
        "      '  ' + str(1) + '   ' + str(2) + '   ' + str(1))"
      ],
      "metadata": {
        "colab": {
          "base_uri": "https://localhost:8080/"
        },
        "id": "T80C6EZn00Bt",
        "outputId": "8edcd784-35dd-4035-a43c-15119c0439c8"
      },
      "execution_count": null,
      "outputs": [
        {
          "output_type": "stream",
          "name": "stdout",
          "text": [
            "      contrast #1 \t\t   contrast #2\n",
            "\n",
            "(e) the converted array\n",
            "      1   2   1\t\t\t   1   2   1\n",
            "      1   2   1\t\t\t   1   2   1\n"
          ]
        }
      ]
    },
    {
      "cell_type": "markdown",
      "source": [
        "### 5. Now let's do it in sigpy!"
      ],
      "metadata": {
        "id": "Y6bplrTu122-"
      }
    },
    {
      "cell_type": "markdown",
      "source": [
        "###### 5.1 install sigpy"
      ],
      "metadata": {
        "id": "zbdgt5DU19_f"
      }
    },
    {
      "cell_type": "code",
      "source": [
        "!git clone https://github.com/ZhengguoTan/sigpy.git"
      ],
      "metadata": {
        "colab": {
          "base_uri": "https://localhost:8080/"
        },
        "id": "VgIfpzb52Ass",
        "outputId": "6d06f553-24c2-473a-d9ee-10b3573f631d"
      },
      "execution_count": null,
      "outputs": [
        {
          "output_type": "stream",
          "name": "stdout",
          "text": [
            "Cloning into 'sigpy'...\n",
            "remote: Enumerating objects: 6070, done.\u001b[K\n",
            "remote: Counting objects: 100% (606/606), done.\u001b[K\n",
            "remote: Compressing objects: 100% (221/221), done.\u001b[K\n",
            "remote: Total 6070 (delta 395), reused 534 (delta 373), pack-reused 5464\u001b[K\n",
            "Receiving objects: 100% (6070/6070), 3.73 MiB | 10.53 MiB/s, done.\n",
            "Resolving deltas: 100% (4415/4415), done.\n"
          ]
        }
      ]
    },
    {
      "cell_type": "code",
      "source": [
        "%cd /content/sigpy\n",
        "!git log -1"
      ],
      "metadata": {
        "colab": {
          "base_uri": "https://localhost:8080/"
        },
        "id": "XSSdH80d2dqE",
        "outputId": "fa43c1ec-4c39-4b52-c039-20a4b9ace143"
      },
      "execution_count": null,
      "outputs": [
        {
          "output_type": "stream",
          "name": "stdout",
          "text": [
            "/content/sigpy\n",
            "\u001b[33mcommit 9ac1824782788c9b36e43a78c77a139437597f16\u001b[m\u001b[33m (\u001b[m\u001b[1;36mHEAD -> \u001b[m\u001b[1;32mmaster\u001b[m\u001b[33m, \u001b[m\u001b[1;31morigin/master\u001b[m\u001b[33m, \u001b[m\u001b[1;31morigin/HEAD\u001b[m\u001b[33m)\u001b[m\n",
            "Author: Zhengguo Tan <zhengguo.tan@gmail.com>\n",
            "Date:   Thu Dec 22 14:55:23 2022 +0100\n",
            "\n",
            "    add verbose option in ConjugateGradient\n"
          ]
        }
      ]
    },
    {
      "cell_type": "code",
      "source": [
        "!pip install matplotlib\n",
        "!pip install mpi4py\n",
        "!pip install -e /content/sigpy"
      ],
      "metadata": {
        "colab": {
          "base_uri": "https://localhost:8080/"
        },
        "id": "mouGToot2i_p",
        "outputId": "c27074b7-16e3-4e6c-e9f7-fc25cff3435e"
      },
      "execution_count": null,
      "outputs": [
        {
          "output_type": "stream",
          "name": "stdout",
          "text": [
            "Looking in indexes: https://pypi.org/simple, https://us-python.pkg.dev/colab-wheels/public/simple/\n",
            "Requirement already satisfied: matplotlib in /usr/local/lib/python3.9/dist-packages (3.7.1)\n",
            "Requirement already satisfied: fonttools>=4.22.0 in /usr/local/lib/python3.9/dist-packages (from matplotlib) (4.39.3)\n",
            "Requirement already satisfied: kiwisolver>=1.0.1 in /usr/local/lib/python3.9/dist-packages (from matplotlib) (1.4.4)\n",
            "Requirement already satisfied: numpy>=1.20 in /usr/local/lib/python3.9/dist-packages (from matplotlib) (1.22.4)\n",
            "Requirement already satisfied: python-dateutil>=2.7 in /usr/local/lib/python3.9/dist-packages (from matplotlib) (2.8.2)\n",
            "Requirement already satisfied: cycler>=0.10 in /usr/local/lib/python3.9/dist-packages (from matplotlib) (0.11.0)\n",
            "Requirement already satisfied: pyparsing>=2.3.1 in /usr/local/lib/python3.9/dist-packages (from matplotlib) (3.0.9)\n",
            "Requirement already satisfied: pillow>=6.2.0 in /usr/local/lib/python3.9/dist-packages (from matplotlib) (8.4.0)\n",
            "Requirement already satisfied: importlib-resources>=3.2.0 in /usr/local/lib/python3.9/dist-packages (from matplotlib) (5.12.0)\n",
            "Requirement already satisfied: packaging>=20.0 in /usr/local/lib/python3.9/dist-packages (from matplotlib) (23.0)\n",
            "Requirement already satisfied: contourpy>=1.0.1 in /usr/local/lib/python3.9/dist-packages (from matplotlib) (1.0.7)\n",
            "Requirement already satisfied: zipp>=3.1.0 in /usr/local/lib/python3.9/dist-packages (from importlib-resources>=3.2.0->matplotlib) (3.15.0)\n",
            "Requirement already satisfied: six>=1.5 in /usr/local/lib/python3.9/dist-packages (from python-dateutil>=2.7->matplotlib) (1.16.0)\n",
            "Looking in indexes: https://pypi.org/simple, https://us-python.pkg.dev/colab-wheels/public/simple/\n",
            "Collecting mpi4py\n",
            "  Downloading mpi4py-3.1.4.tar.gz (2.5 MB)\n",
            "\u001b[2K     \u001b[90m━━━━━━━━━━━━━━━━━━━━━━━━━━━━━━━━━━━━━━━━\u001b[0m \u001b[32m2.5/2.5 MB\u001b[0m \u001b[31m32.6 MB/s\u001b[0m eta \u001b[36m0:00:00\u001b[0m\n",
            "\u001b[?25h  Installing build dependencies ... \u001b[?25l\u001b[?25hdone\n",
            "  Getting requirements to build wheel ... \u001b[?25l\u001b[?25hdone\n",
            "  Preparing metadata (pyproject.toml) ... \u001b[?25l\u001b[?25hdone\n",
            "Building wheels for collected packages: mpi4py\n",
            "  Building wheel for mpi4py (pyproject.toml) ... \u001b[?25l\u001b[?25hdone\n",
            "  Created wheel for mpi4py: filename=mpi4py-3.1.4-cp39-cp39-linux_x86_64.whl size=3380623 sha256=2aefa54d9d4cb9e32d89bd236cbfaa247c87df8c566d6894dcfd27f662167a79\n",
            "  Stored in directory: /root/.cache/pip/wheels/db/81/9f/43a031fce121c845baca1c5d9a1468cad98208286aa2832de9\n",
            "Successfully built mpi4py\n",
            "Installing collected packages: mpi4py\n",
            "Successfully installed mpi4py-3.1.4\n",
            "Looking in indexes: https://pypi.org/simple, https://us-python.pkg.dev/colab-wheels/public/simple/\n",
            "Obtaining file:///content/sigpy\n",
            "  Preparing metadata (setup.py) ... \u001b[?25l\u001b[?25hdone\n",
            "Requirement already satisfied: numpy in /usr/local/lib/python3.9/dist-packages (from sigpy==0.1.23) (1.22.4)\n",
            "Requirement already satisfied: pywavelets in /usr/local/lib/python3.9/dist-packages (from sigpy==0.1.23) (1.4.1)\n",
            "Requirement already satisfied: numba in /usr/local/lib/python3.9/dist-packages (from sigpy==0.1.23) (0.56.4)\n",
            "Requirement already satisfied: scipy in /usr/local/lib/python3.9/dist-packages (from sigpy==0.1.23) (1.10.1)\n",
            "Requirement already satisfied: tqdm in /usr/local/lib/python3.9/dist-packages (from sigpy==0.1.23) (4.65.0)\n",
            "Requirement already satisfied: setuptools in /usr/local/lib/python3.9/dist-packages (from numba->sigpy==0.1.23) (67.6.1)\n",
            "Requirement already satisfied: llvmlite<0.40,>=0.39.0dev0 in /usr/local/lib/python3.9/dist-packages (from numba->sigpy==0.1.23) (0.39.1)\n",
            "Installing collected packages: sigpy\n",
            "  Running setup.py develop for sigpy\n",
            "Successfully installed sigpy-0.1.23\n"
          ]
        }
      ]
    },
    {
      "cell_type": "markdown",
      "source": [
        "###### 5.2 We will continue to use the toy example 3D array"
      ],
      "metadata": {
        "id": "cFxAPUXh3CSC"
      }
    },
    {
      "cell_type": "code",
      "source": [
        "import sigpy as sp\n",
        "from sigpy import linop"
      ],
      "metadata": {
        "id": "_hdZz_J82-lI"
      },
      "execution_count": null,
      "outputs": []
    },
    {
      "cell_type": "code",
      "source": [
        "# here we define the ArrayToBlocks linear operator\n",
        "\n",
        "T = linop.ArrayToBlocks(x.shape, blk_shape=(2, 2), blk_strides=(1, 1))"
      ],
      "metadata": {
        "id": "Y4Bjs3393WwZ"
      },
      "execution_count": null,
      "outputs": []
    },
    {
      "cell_type": "code",
      "source": [
        "# here we apply ArrayToBlocks and then its adjoing (i.e. BlocksToArray) to the multi-contrast 3D array\n",
        "\n",
        "y = T.H * T * x\n",
        "\n",
        "print('\\n multi-cotrast 3D array x: \\n', x)\n",
        "\n",
        "print('\\n converted multi-contrast 3D array y: \\n', y)"
      ],
      "metadata": {
        "colab": {
          "base_uri": "https://localhost:8080/"
        },
        "id": "6HA-qMs73pWV",
        "outputId": "e55db8ef-1a8d-4489-c10a-cd50ba38bfca"
      },
      "execution_count": null,
      "outputs": [
        {
          "output_type": "stream",
          "name": "stdout",
          "text": [
            "\n",
            " multi-cotrast 3D array x: \n",
            " [[[1.1 1.2 1.3]\n",
            "  [1.4 1.5 1.6]]\n",
            "\n",
            " [[2.1 2.2 2.3]\n",
            "  [2.4 2.5 2.6]]]\n",
            "\n",
            " converted multi-contrast 3D array y: \n",
            " [[[1.1 2.4 1.3]\n",
            "  [1.4 3.  1.6]]\n",
            "\n",
            " [[2.1 4.4 2.3]\n",
            "  [2.4 5.  2.6]]]\n"
          ]
        }
      ]
    },
    {
      "cell_type": "code",
      "source": [
        "# now we compute the scaling matrix to correct the overlapping problem\n",
        "\n",
        "I = np.ones_like(x)\n",
        "S = T.H * T * I\n",
        "\n",
        "print('\\n 3D ones array I: \\n', I)\n",
        "\n",
        "print('\\n converted 3D array accounting for overlapping S: \\n', S)"
      ],
      "metadata": {
        "colab": {
          "base_uri": "https://localhost:8080/"
        },
        "id": "C7hob0pD4gsO",
        "outputId": "051dfea7-b08a-49cb-8645-ae32c6683b3c"
      },
      "execution_count": null,
      "outputs": [
        {
          "output_type": "stream",
          "name": "stdout",
          "text": [
            "\n",
            " 3D ones array I: \n",
            " [[[1. 1. 1.]\n",
            "  [1. 1. 1.]]\n",
            "\n",
            " [[1. 1. 1.]\n",
            "  [1. 1. 1.]]]\n",
            "\n",
            " converted 3D array accounting for overlapping S: \n",
            " [[[1. 2. 1.]\n",
            "  [1. 2. 1.]]\n",
            "\n",
            " [[1. 2. 1.]\n",
            "  [1. 2. 1.]]]\n"
          ]
        }
      ]
    },
    {
      "cell_type": "code",
      "source": [
        "# now we can apply this caling matrix to correct for y\n",
        "y_corr = (T.H * T * x) / S\n",
        "\n",
        "print('\\n multi-cotrast 3D array x: \\n', x)\n",
        "\n",
        "print('\\n converted multi-contrast 3D array y_corr: \\n', y_corr)"
      ],
      "metadata": {
        "colab": {
          "base_uri": "https://localhost:8080/"
        },
        "id": "jF3ovALX450_",
        "outputId": "9de6ea84-7d38-4f7a-aaab-8c5880789489"
      },
      "execution_count": null,
      "outputs": [
        {
          "output_type": "stream",
          "name": "stdout",
          "text": [
            "\n",
            " multi-cotrast 3D array x: \n",
            " [[[1.1 1.2 1.3]\n",
            "  [1.4 1.5 1.6]]\n",
            "\n",
            " [[2.1 2.2 2.3]\n",
            "  [2.4 2.5 2.6]]]\n",
            "\n",
            " converted multi-contrast 3D array y_corr: \n",
            " [[[1.1 1.2 1.3]\n",
            "  [1.4 1.5 1.6]]\n",
            "\n",
            " [[2.1 2.2 2.3]\n",
            "  [2.4 2.5 2.6]]]\n"
          ]
        }
      ]
    },
    {
      "cell_type": "markdown",
      "source": [
        "Thank you for your attention!"
      ],
      "metadata": {
        "id": "v1NXnnH05lsK"
      }
    }
  ]
}